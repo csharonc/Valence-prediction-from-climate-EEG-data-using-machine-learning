{
 "cells": [
  {
   "cell_type": "code",
   "execution_count": 1,
   "metadata": {},
   "outputs": [
    {
     "name": "stdout",
     "output_type": "stream",
     "text": [
      "3.825132745358904, 0.0006702307679612426\n"
     ]
    }
   ],
   "source": [
    "import numpy as np\n",
    "from scipy import stats\n",
    "\n",
    "\n",
    "A = [2.8472835143995123,\n",
    " 2.1506785115866736,\n",
    " 1.9457525991907412,\n",
    " 2.1506785115866736,\n",
    " 2.7321937967764685,\n",
    " 2.8472835143995123,\n",
    " 3.642465995507452,\n",
    " 3.5077553828747745,\n",
    " 2.7321937967764685,\n",
    " 1.9457525991907412,\n",
    " 2.8472835143995123,\n",
    " 2.8472835143995123,\n",
    " 2.8472835143995123,\n",
    " 3.642465995507452,\n",
    " 2.1506785115866736,\n",
    " 1.9457525991907412,\n",
    " 3.642465995507452,\n",
    " 2.7321937967764685,\n",
    " 2.2240702089444886,\n",
    " 2.2240702089444886]\n",
    "B =[1.9534429372755455, 1.9632042615337715, 1.9787184487856981, 1.9601952994097813, 1.9681557988892195, 1.984044078534594, 1.969478990131907, 1.964938055095338, 1.9692074760694616, 1.9608451836632317]\n",
    "\n",
    "t_stat, p_value = stats.ttest_ind(A, B)\n",
    "\n",
    "print(f\"{t_stat}, {p_value}\")"
   ]
  },
  {
   "cell_type": "code",
   "execution_count": 6,
   "metadata": {},
   "outputs": [
    {
     "name": "stdout",
     "output_type": "stream",
     "text": [
      "0.00000000000000000000\n"
     ]
    }
   ],
   "source": [
    "print(\"{:.20f}\".format(p_value))"
   ]
  }
 ],
 "metadata": {
  "kernelspec": {
   "display_name": "EEG",
   "language": "python",
   "name": "python3"
  },
  "language_info": {
   "codemirror_mode": {
    "name": "ipython",
    "version": 3
   },
   "file_extension": ".py",
   "mimetype": "text/x-python",
   "name": "python",
   "nbconvert_exporter": "python",
   "pygments_lexer": "ipython3",
   "version": "3.9.18"
  }
 },
 "nbformat": 4,
 "nbformat_minor": 2
}
