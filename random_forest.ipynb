{
 "cells": [
  {
   "cell_type": "code",
   "execution_count": 1,
   "metadata": {},
   "outputs": [
    {
     "name": "stdout",
     "output_type": "stream",
     "text": [
      "WARNING:tensorflow:From c:\\Users\\scbui\\anaconda3\\envs\\EEG\\lib\\site-packages\\keras\\src\\losses.py:2976: The name tf.losses.sparse_softmax_cross_entropy is deprecated. Please use tf.compat.v1.losses.sparse_softmax_cross_entropy instead.\n",
      "\n"
     ]
    },
    {
     "name": "stderr",
     "output_type": "stream",
     "text": [
      "c:\\Users\\scbui\\OneDrive\\Documents\\Master_BMS_PSN\\Research_project_2_Unravel\\Python\\Random_forest\\groups_of_features.py:7: DtypeWarning: Columns (3) have mixed types. Specify dtype option on import or set low_memory=False.\n",
      "  features = pd.read_csv(\"../features_tweaked.csv\")\n"
     ]
    }
   ],
   "source": [
    "import pandas as pd\n",
    "import numpy as np\n",
    "import sklearn as sk\n",
    "import matplotlib.pyplot as plt\n",
    "\n",
    "import keras\n",
    "from tensorflow.keras.models import Sequential\n",
    "from tensorflow.keras.layers import Dense\n",
    "import numpy as np\n",
    "from sklearn.model_selection import train_test_split\n",
    "from sklearn.preprocessing import StandardScaler\n",
    "from keras.optimizers import Adam\n",
    "\n",
    "from sklearn.model_selection import train_test_split\n",
    "\n",
    "\n",
    "from tqdm import tqdm\n",
    "\n",
    "import groups_of_features\n",
    "from groups_of_features import _frontal, _central, _parietal, _alpha, _theta, _beta, _low_gamma, _high_gamma\n",
    "\n",
    "plt.rcParams.update({\n",
    "    'mathtext.fontset': 'cm',\n",
    "    'font.family': 'STIXGeneral',\n",
    "    'font.size': 18,\n",
    "    'axes.xmargin': 0,\n",
    "    'grid.color': 'gray',\n",
    "    'grid.linestyle': '--',\n",
    "    'grid.linewidth': 0.5,\n",
    "})\n",
    "\n",
    "from sklearn.ensemble import RandomForestClassifier\n",
    "from sklearn.metrics import mean_squared_error\n",
    "from sklearn.metrics import accuracy_score"
   ]
  },
  {
   "cell_type": "code",
   "execution_count": 2,
   "metadata": {},
   "outputs": [
    {
     "name": "stderr",
     "output_type": "stream",
     "text": [
      "C:\\Users\\scbui\\AppData\\Local\\Temp\\ipykernel_316\\1846429560.py:1: DtypeWarning: Columns (3) have mixed types. Specify dtype option on import or set low_memory=False.\n",
      "  features = pd.read_csv(\"../features_tweaked.csv\")\n"
     ]
    }
   ],
   "source": [
    "features = pd.read_csv(\"../features_tweaked.csv\")"
   ]
  },
  {
   "cell_type": "code",
   "execution_count": 5,
   "metadata": {},
   "outputs": [
    {
     "data": {
      "text/plain": [
       "0.391304347826087"
      ]
     },
     "execution_count": 5,
     "metadata": {},
     "output_type": "execute_result"
    }
   ],
   "source": [
    "metadata_columns = ['Respondent', 'Participant_ID', 'mean_rating', 'Participant_ID_short',\n",
    "       'image_number', 'individual_ratings', 'ID', 'Type', \"class\", \"Missing\", \"FAA\"]\n",
    "\n",
    "dropping_columns = metadata_columns\n",
    "# X1 = features.drop(dropping_columns, axis = 1)\n",
    "\n",
    "# all_columns = set(X1.columns)\n",
    "# columns_to_drop = set(_frontal + _central)\n",
    "# columns_to_drop = columns_to_drop.intersection(all_columns)\n",
    "\n",
    "X = features.drop(dropping_columns, axis = 1)\n",
    "y = features[\"class\"]\n",
    "\n",
    "# Split the data into training and testing sets\n",
    "X_train, X_test, y_train, y_test = train_test_split(X, y, test_size=0.1, random_state=42)\n",
    "\n",
    "# Standardize the features\n",
    "scaler = StandardScaler()\n",
    "X_train_scaled = scaler.fit_transform(X_train)\n",
    "X_test_scaled = scaler.transform(X_test)\n",
    "\n",
    "model = RandomForestClassifier(max_samples= X_train_scaled.shape[0], n_estimators=205, max_depth = 6, max_leaf_nodes=16, n_jobs=-1)\n",
    "model.fit(X_train_scaled, y_train)\n",
    "y_pred = model.predict(X_test_scaled)\n",
    "\n",
    "\n",
    "# # Calculate MSE\n",
    "# rmse = np.sqrt(mean_squared_error(y_test, y_pred))\n",
    "# rmse\n",
    "\n",
    "accuracy = accuracy_score(y_test, y_pred)\n",
    "accuracy"
   ]
  },
  {
   "cell_type": "code",
   "execution_count": 6,
   "metadata": {},
   "outputs": [
    {
     "data": {
      "text/plain": [
       "(2683, 1540)"
      ]
     },
     "execution_count": 6,
     "metadata": {},
     "output_type": "execute_result"
    }
   ],
   "source": [
    "X_train_scaled.shape\n"
   ]
  },
  {
   "cell_type": "code",
   "execution_count": 5,
   "metadata": {},
   "outputs": [
    {
     "name": "stdout",
     "output_type": "stream",
     "text": [
      "Fp1_8hz 0.007896323768132284\n",
      "Fp1_9hz 0.009621138648758966\n",
      "Fp1_10hz 0.006277681566221437\n",
      "Fp1_11hz 0.012456440439270543\n",
      "Fp1_12hz 0.007993433342043835\n",
      "Fp2_8hz 0.007611595157685268\n",
      "Fp2_9hz 0.0053391869751068435\n",
      "Fp2_10hz 0.007531855476365547\n",
      "Fp2_11hz 0.008486228490472536\n",
      "Fp2_12hz 0.009164581775651583\n",
      "F3_8hz 0.010483171897682676\n",
      "F3_9hz 0.01902914084475568\n",
      "F3_10hz 0.011970147226016891\n",
      "F3_11hz 0.009372771565673692\n",
      "F3_12hz 0.007600696333880334\n",
      "F4_8hz 0.007801303913227078\n",
      "F4_9hz 0.006587939783899147\n",
      "F4_10hz 0.008028459536151309\n",
      "F4_11hz 0.01539400201602444\n",
      "F4_12hz 0.009236757025910832\n",
      "F7_8hz 0.011551239399056633\n",
      "F7_9hz 0.012391426953187377\n",
      "F7_10hz 0.012050158792481024\n",
      "F7_11hz 0.007452973812746323\n",
      "F7_12hz 0.006557175000462812\n",
      "F8_8hz 0.011600892208876206\n",
      "F8_9hz 0.015869646071032566\n",
      "F8_10hz 0.00687716964764939\n",
      "F8_11hz 0.0160320760061756\n",
      "F8_12hz 0.022541915646245043\n",
      "Fz_8hz 0.00839117869052737\n",
      "Fz_9hz 0.011650012861833686\n",
      "Fz_10hz 0.006792578378126537\n",
      "Fz_11hz 0.008374498660764338\n",
      "Fz_12hz 0.006334354249781508\n",
      "Cz_8hz 0.010831816511874618\n",
      "Cz_9hz 0.010860671087457351\n",
      "Cz_10hz 0.010311453640379156\n",
      "Cz_11hz 0.00927802562304135\n",
      "Cz_12hz 0.00582746642215468\n",
      "C3_8hz 0.009522252716399452\n",
      "C3_9hz 0.008489240366610551\n",
      "C3_10hz 0.01167577563743892\n",
      "C3_11hz 0.010706564830161054\n",
      "C3_12hz 0.008117144973477042\n",
      "C4_8hz 0.008333644306170054\n",
      "C4_9hz 0.0070446764121638306\n",
      "C4_10hz 0.007934991724180926\n",
      "C4_11hz 0.011407920442361441\n",
      "C4_12hz 0.010338578889879728\n",
      "T3_8hz 0.009056390759791921\n",
      "T3_9hz 0.006505468530207905\n",
      "T3_10hz 0.009280183419401363\n",
      "T3_11hz 0.00900729143423363\n",
      "T3_12hz 0.008999126536593844\n",
      "T4_8hz 0.010318048682367896\n",
      "T4_9hz 0.009280770041453633\n",
      "T4_10hz 0.00837616382260589\n",
      "T4_11hz 0.008534370892660131\n",
      "T4_12hz 0.00864038366679207\n",
      "T5_8hz 0.0071101936663088856\n",
      "T5_9hz 0.012181157935337994\n",
      "T5_10hz 0.014151701008316819\n",
      "T5_11hz 0.012160194628912336\n",
      "T5_12hz 0.019701036080616022\n",
      "T6_8hz 0.00956548406100336\n",
      "T6_9hz 0.010127331759044874\n",
      "T6_10hz 0.00845463304979898\n",
      "T6_11hz 0.011909602176401659\n",
      "T6_12hz 0.01299180505757284\n",
      "P3_8hz 0.009535757308160097\n",
      "P3_9hz 0.012106123082894995\n",
      "P3_10hz 0.005934984034920786\n",
      "P3_11hz 0.012133421466617432\n",
      "P3_12hz 0.008384862423060855\n",
      "P4_8hz 0.013253682385578601\n",
      "P4_9hz 0.007528509222178337\n",
      "P4_10hz 0.010071068274502713\n",
      "P4_11hz 0.014610064668512716\n",
      "P4_12hz 0.010421380667116443\n",
      "Pz_8hz 0.007091709496066655\n",
      "Pz_9hz 0.008271662398043401\n",
      "Pz_10hz 0.01317958878975236\n",
      "Pz_11hz 0.008659566723587123\n",
      "Pz_12hz 0.007842579302902084\n",
      "POz_8hz 0.009340917974560534\n",
      "POz_9hz 0.00942326320350291\n",
      "POz_10hz 0.015830844227242322\n",
      "POz_11hz 0.009121099240700602\n",
      "POz_12hz 0.008899414364801739\n",
      "O1_8hz 0.01051696363231756\n",
      "O1_9hz 0.010068999051730615\n",
      "O1_10hz 0.009171831549270494\n",
      "O1_11hz 0.009095328747656258\n",
      "O1_12hz 0.013384459941355129\n",
      "O2_8hz 0.007015060448507663\n",
      "O2_9hz 0.0067801920297828715\n",
      "O2_10hz 0.009296835872143245\n",
      "O2_11hz 0.012201773959203584\n",
      "O2_12hz 0.011446342558280182\n"
     ]
    }
   ],
   "source": [
    "for name, score in zip(X.columns, model.feature_importances_):\n",
    "    print(name, score)\n"
   ]
  }
 ],
 "metadata": {
  "kernelspec": {
   "display_name": "EEG",
   "language": "python",
   "name": "python3"
  },
  "language_info": {
   "codemirror_mode": {
    "name": "ipython",
    "version": 3
   },
   "file_extension": ".py",
   "mimetype": "text/x-python",
   "name": "python",
   "nbconvert_exporter": "python",
   "pygments_lexer": "ipython3",
   "version": "3.9.18"
  }
 },
 "nbformat": 4,
 "nbformat_minor": 2
}
