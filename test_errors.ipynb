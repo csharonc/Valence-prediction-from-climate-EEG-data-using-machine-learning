{
 "cells": [
  {
   "cell_type": "code",
   "execution_count": 39,
   "metadata": {},
   "outputs": [],
   "source": [
    "from importlib import reload\n",
    "import EEG_with_functions as f\n",
    "reload(f)\n",
    "\n",
    "import pandas as pd\n",
    "import numpy as np\n",
    "from tqdm import tqdm\n",
    "import os\n",
    "import json\n",
    "\n",
    "import matplotlib.pyplot as plt\n",
    "from matplotlib.ticker import PercentFormatter\n",
    "import warnings"
   ]
  },
  {
   "cell_type": "code",
   "execution_count": 40,
   "metadata": {},
   "outputs": [
    {
     "name": "stderr",
     "output_type": "stream",
     "text": [
      "C:\\Users\\scbui\\AppData\\Local\\Temp\\ipykernel_40864\\3709109211.py:2: DtypeWarning: Columns (3) have mixed types. Specify dtype option on import or set low_memory=False.\n",
      "  features = pd.read_csv(\"features.csv\")\n"
     ]
    }
   ],
   "source": [
    "survey = f.import_survey_df()\n",
    "features = pd.read_csv(\"features.csv\")"
   ]
  },
  {
   "cell_type": "code",
   "execution_count": 38,
   "metadata": {},
   "outputs": [
    {
     "data": {
      "text/plain": [
       "0       2\n",
       "1       3\n",
       "2       2\n",
       "3       2\n",
       "4       3\n",
       "       ..\n",
       "2044    3\n",
       "2045    3\n",
       "2046    3\n",
       "2047    2\n",
       "2048    3\n",
       "Name: class, Length: 2049, dtype: int64"
      ]
     },
     "execution_count": 38,
     "metadata": {},
     "output_type": "execute_result"
    }
   ],
   "source": [
    "\n"
   ]
  },
  {
   "cell_type": "code",
   "execution_count": null,
   "metadata": {},
   "outputs": [],
   "source": [
    "%%capture\n",
    "warnings.filterwarnings(\"ignore\")\n",
    "\n",
    "res = f.import_data('045_1000619.csv', \"Sensor_data_compleet\", \"./\")\n",
    "info, sampling_freq, n_channels, ch_names, ch_types = f.metadata()\n",
    "only_electrodes = ch_names\n",
    "res = f.stim_channels(res)\n",
    "\n",
    "stimuli_dict, res = f.change_stimuli_names(res)\n",
    "\n",
    "info, channel_names = f.make_mne_object(info, sampling_freq, n_channels, only_electrodes, ch_types)\n",
    "res = f.remove_nas(res, only_electrodes)\n",
    "raw = f.convertto_raw(res, channel_names, info)\n",
    "raw_filter = f.filter_raw(raw)\n",
    "events, baseline_list, fixcross_list, stimuli_list = f.extract_events(raw_filter)\n",
    "epochs = f.create_epochs(raw_filter, events, \"no\")\n",
    "low_cutoff, high_cutoff, notch_freq, artifact_threshold, n_fft, n_overlap = f.parameters(1.0, 0.1)\n"
   ]
  },
  {
   "cell_type": "code",
   "execution_count": null,
   "metadata": {},
   "outputs": [],
   "source": [
    "def create_baseline_waves_df(events, baseline_epochs, only_electrodes, respondent):\n",
    "    baseline_features = pd.DataFrame()\n",
    "    res = []\n",
    "    baseline_list = []\n",
    "    baseline_ID = []\n",
    "\n",
    "    for ep in events:\n",
    "        ep_name = ep[2]\n",
    "        if str(ep_name).startswith(\"4\"): #baseline LET OP: IS NU ALLEEN FIXCROSSES IPV BASELINE, WANT DE BASELINES ZIJN GENOMEN VANAF DE FIXCROSS\n",
    "            res.append(respondent)\n",
    "            baseline_list.append(\"baseline\")\n",
    "            baseline_ID.append(str(ep_name))\n",
    "\n",
    "            ep_namestr = str(ep_name)\n",
    "            spectrum_unique = baseline_epochs[ep_namestr].compute_psd(method =\"welch\", fmin=4, fmax=20, n_fft= 256, n_overlap= int(0.1 * 256), n_per_seg = 256) #\n",
    "            \n",
    "            # baseline_features3[\"ID\"] = ep_namestr\n",
    "            for ch in only_electrodes:\n",
    "                for i in range(4, 21):\n",
    "                    hz = spectrum_unique.get_data(fmin=i, fmax=i, picks = ch)\n",
    "                    hz_unpacked = hz[0][0][0]\n",
    "                    column = ch + \"_\" + str(i) + \"hz\"\n",
    "                    baseline_features.loc[ep_namestr, column]  = float(hz_unpacked)\n",
    "                \n",
    "    \n",
    "    baseline_features[\"Type\"] = baseline_list\n",
    "    baseline_features[\"ID\"] = baseline_ID\n",
    "    baseline_features[\"Respondent\"] = res\n",
    "    baseline_features = baseline_features[[\"Respondent\", \"ID\", \"Type\"] + [col for col in baseline_features.columns if col not in [\"Respondent\", \"ID\", \"Type\"]]]\n",
    "\n",
    "    return baseline_features\n",
    "\n",
    "def create_stimuli_waves_df(events, stimuli_epochs, only_electrodes, respondent):   \n",
    "    stimuli_features = pd.DataFrame()\n",
    "\n",
    "    stimuli_str_list_PSD = []\n",
    "    res = []\n",
    "    stimuli_ID = []\n",
    "\n",
    "    for ep in events:\n",
    "        ep_name = ep[2]\n",
    "        if str(ep_name).startswith((\"5\", \"6\", \"7\")): #stimuli\n",
    "            ep_namestr = str(ep_name)\n",
    "            res.append(respondent)\n",
    "            stimuli_ID.append(str(ep_name))\n",
    "\n",
    "            if ep_namestr.startswith(\"5\"):\n",
    "                ty = \"pos\"\n",
    "            elif ep_namestr.startswith(\"6\"):\n",
    "                ty = \"neu\"\n",
    "            elif ep_namestr.startswith(\"7\"):\n",
    "                ty = \"neg\"\n",
    "            stimuli_str_list_PSD.append(ty)\n",
    "\n",
    "            spectrum_unique = stimuli_epochs[ep_namestr].compute_psd(method =\"welch\", fmin=4, fmax=20, n_fft= 256, n_overlap= int(0.1 * 256), n_per_seg = 256) #\n",
    "            for ch in only_electrodes:\n",
    "                for i in range(4, 21):\n",
    "                    hz = spectrum_unique.get_data(fmin=i, fmax=i, picks = ch)\n",
    "                    hz_unpacked = hz[0][0][0]\n",
    "                    column = ch + \"_\" + str(i) + \"hz\"\n",
    "                    stimuli_features.loc[ep_namestr, column]  = float(hz_unpacked)\n",
    "\n",
    "    stimuli_features[\"Type\"] = stimuli_str_list_PSD\n",
    "    stimuli_features[\"ID\"] = stimuli_ID\n",
    "    stimuli_features[\"Respondent\"] = res\n",
    "    stimuli_features = stimuli_features[[\"Respondent\", \"ID\", \"Type\"] + [col for col in stimuli_features.columns if col not in [\"Respondent\", \"ID\", \"Type\"]]]\n",
    "    return stimuli_features"
   ]
  }
 ],
 "metadata": {
  "kernelspec": {
   "display_name": "EEG",
   "language": "python",
   "name": "python3"
  },
  "language_info": {
   "codemirror_mode": {
    "name": "ipython",
    "version": 3
   },
   "file_extension": ".py",
   "mimetype": "text/x-python",
   "name": "python",
   "nbconvert_exporter": "python",
   "pygments_lexer": "ipython3",
   "version": "3.9.18"
  }
 },
 "nbformat": 4,
 "nbformat_minor": 2
}
